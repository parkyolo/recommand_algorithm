{
  "nbformat": 4,
  "nbformat_minor": 0,
  "metadata": {
    "colab": {
      "name": " buydata_preprocessed.ipynb",
      "provenance": [],
      "collapsed_sections": [],
      "authorship_tag": "ABX9TyNsOn3khjr6k8lFoQMfbaEu",
      "include_colab_link": true
    },
    "kernelspec": {
      "name": "python3",
      "display_name": "Python 3"
    },
    "language_info": {
      "name": "python"
    }
  },
  "cells": [
    {
      "cell_type": "markdown",
      "metadata": {
        "id": "view-in-github",
        "colab_type": "text"
      },
      "source": [
        "<a href=\"https://colab.research.google.com/github/parkyolo/recommand_algorithm/blob/main/buydata_preprocessed.ipynb\" target=\"_parent\"><img src=\"https://colab.research.google.com/assets/colab-badge.svg\" alt=\"Open In Colab\"/></a>"
      ]
    },
    {
      "cell_type": "code",
      "metadata": {
        "id": "jv4UOnUEYu3I"
      },
      "source": [
        "import time\n",
        "import random\n",
        "import numpy as np\n",
        "import pandas as pd\n",
        "import datetime as dt"
      ],
      "execution_count": 1,
      "outputs": []
    },
    {
      "cell_type": "code",
      "metadata": {
        "colab": {
          "base_uri": "https://localhost:8080/"
        },
        "id": "_vOc67MRZVTH",
        "outputId": "dd5cf8a9-f65a-47a3-f507-77c748d977dc"
      },
      "source": [
        "from google.colab import drive\n",
        "drive.mount('/content/gdrive')"
      ],
      "execution_count": 2,
      "outputs": [
        {
          "output_type": "stream",
          "text": [
            "Mounted at /content/gdrive\n"
          ],
          "name": "stdout"
        }
      ]
    },
    {
      "cell_type": "code",
      "metadata": {
        "colab": {
          "base_uri": "https://localhost:8080/"
        },
        "id": "sLA9pMeuZRz0",
        "outputId": "9ac08d13-ce0c-448c-912a-22700d6abd05"
      },
      "source": [
        "## load data\n",
        "raw_data = pd.read_csv('/content/gdrive/MyDrive/yoochoose/yoochoose-buys.dat', sep=',', \\\n",
        "                   header=None, usecols=[0,1,2], dtype={0:np.int32, 1:str, 2:np.int64})\n",
        "raw_data.columns = ['SessionId', 'TimeStamp', 'ItemId']\n",
        "raw_data.shape"
      ],
      "execution_count": 2,
      "outputs": [
        {
          "output_type": "execute_result",
          "data": {
            "text/plain": [
              "(1150753, 3)"
            ]
          },
          "metadata": {
            "tags": []
          },
          "execution_count": 2
        }
      ]
    },
    {
      "cell_type": "code",
      "metadata": {
        "id": "wyVM75ZSaWgo"
      },
      "source": [
        "# time stamp 버리고 \n",
        "dropped_timestamp = raw_data.drop('TimeStamp',axis=1)\n",
        "# session id & item id 쌍 중복 제거 \n",
        "dropped_duplicates = dropped_timestamp.drop_duplicates()"
      ],
      "execution_count": 3,
      "outputs": []
    },
    {
      "cell_type": "code",
      "metadata": {
        "colab": {
          "base_uri": "https://localhost:8080/"
        },
        "id": "RU81DoexaXu6",
        "outputId": "7168f02a-f726-4e65-b9ec-d3659dfb7bfe"
      },
      "source": [
        "len(dropped_duplicates)"
      ],
      "execution_count": 11,
      "outputs": [
        {
          "output_type": "execute_result",
          "data": {
            "text/plain": [
              "1049817"
            ]
          },
          "metadata": {
            "tags": []
          },
          "execution_count": 11
        }
      ]
    },
    {
      "cell_type": "code",
      "metadata": {
        "id": "HyY8AtvkacVt"
      },
      "source": [
        "# data : 중복 제거된 data \n",
        "# length : 길이 몇 이상인 데이터로 할 것 인지, sessionID 하나에 대한 itemID 개수\n",
        "def filter_session(data,length):\n",
        "    session_lists = list(data['SessionId'].value_counts().index)\n",
        "    filtered_df = pd.DataFrame()\n",
        "    for user in session_lists:\n",
        "        filtered_user_df = data[data['SessionId']==user]\n",
        "        if len(filtered_user_df) > length :\n",
        "            filtered_df = pd.concat([filtered_df,filtered_user_df])\n",
        "    return filtered_df"
      ],
      "execution_count": 4,
      "outputs": []
    },
    {
      "cell_type": "code",
      "metadata": {
        "id": "v1qPBnIpgZCM"
      },
      "source": [
        "filtered_df = filter_session(dropped_duplicates,10)"
      ],
      "execution_count": 16,
      "outputs": []
    },
    {
      "cell_type": "code",
      "metadata": {
        "colab": {
          "base_uri": "https://localhost:8080/",
          "height": 419
        },
        "id": "OTG0VcnGmRpV",
        "outputId": "6c13e095-0008-4c26-ecfd-22d359489fab"
      },
      "source": [
        "filtered_df"
      ],
      "execution_count": 17,
      "outputs": [
        {
          "output_type": "execute_result",
          "data": {
            "text/html": [
              "<div>\n",
              "<style scoped>\n",
              "    .dataframe tbody tr th:only-of-type {\n",
              "        vertical-align: middle;\n",
              "    }\n",
              "\n",
              "    .dataframe tbody tr th {\n",
              "        vertical-align: top;\n",
              "    }\n",
              "\n",
              "    .dataframe thead th {\n",
              "        text-align: right;\n",
              "    }\n",
              "</style>\n",
              "<table border=\"1\" class=\"dataframe\">\n",
              "  <thead>\n",
              "    <tr style=\"text-align: right;\">\n",
              "      <th></th>\n",
              "      <th>SessionId</th>\n",
              "      <th>ItemId</th>\n",
              "    </tr>\n",
              "  </thead>\n",
              "  <tbody>\n",
              "    <tr>\n",
              "      <th>576452</th>\n",
              "      <td>6149111</td>\n",
              "      <td>214848373</td>\n",
              "    </tr>\n",
              "    <tr>\n",
              "      <th>576453</th>\n",
              "      <td>6149111</td>\n",
              "      <td>214848384</td>\n",
              "    </tr>\n",
              "    <tr>\n",
              "      <th>576454</th>\n",
              "      <td>6149111</td>\n",
              "      <td>214835167</td>\n",
              "    </tr>\n",
              "    <tr>\n",
              "      <th>576455</th>\n",
              "      <td>6149111</td>\n",
              "      <td>214829765</td>\n",
              "    </tr>\n",
              "    <tr>\n",
              "      <th>576456</th>\n",
              "      <td>6149111</td>\n",
              "      <td>214848926</td>\n",
              "    </tr>\n",
              "    <tr>\n",
              "      <th>...</th>\n",
              "      <td>...</td>\n",
              "      <td>...</td>\n",
              "    </tr>\n",
              "    <tr>\n",
              "      <th>640546</th>\n",
              "      <td>6273507</td>\n",
              "      <td>214848688</td>\n",
              "    </tr>\n",
              "    <tr>\n",
              "      <th>640547</th>\n",
              "      <td>6273507</td>\n",
              "      <td>214848410</td>\n",
              "    </tr>\n",
              "    <tr>\n",
              "      <th>640548</th>\n",
              "      <td>6273507</td>\n",
              "      <td>214848337</td>\n",
              "    </tr>\n",
              "    <tr>\n",
              "      <th>640549</th>\n",
              "      <td>6273507</td>\n",
              "      <td>214826990</td>\n",
              "    </tr>\n",
              "    <tr>\n",
              "      <th>640550</th>\n",
              "      <td>6273507</td>\n",
              "      <td>214848380</td>\n",
              "    </tr>\n",
              "  </tbody>\n",
              "</table>\n",
              "<p>20631 rows × 2 columns</p>\n",
              "</div>"
            ],
            "text/plain": [
              "        SessionId     ItemId\n",
              "576452    6149111  214848373\n",
              "576453    6149111  214848384\n",
              "576454    6149111  214835167\n",
              "576455    6149111  214829765\n",
              "576456    6149111  214848926\n",
              "...           ...        ...\n",
              "640546    6273507  214848688\n",
              "640547    6273507  214848410\n",
              "640548    6273507  214848337\n",
              "640549    6273507  214826990\n",
              "640550    6273507  214848380\n",
              "\n",
              "[20631 rows x 2 columns]"
            ]
          },
          "metadata": {
            "tags": []
          },
          "execution_count": 17
        }
      ]
    },
    {
      "cell_type": "code",
      "metadata": {
        "id": "Guy0hTfGtBev"
      },
      "source": [
        "session_id = np.array(filtered_df['SessionId'])\n",
        "item_id = np.array(filtered_df['ItemId'])"
      ],
      "execution_count": 18,
      "outputs": []
    },
    {
      "cell_type": "code",
      "metadata": {
        "id": "hZVDIAp-tWEL"
      },
      "source": [
        "from scipy.sparse import csr_matrix\n",
        "# session_item_spm = sp.coo_matrix((np.ones((len(session_id),)), (session_id, item_id)))\n",
        "session_item_spm = csr_matrix((np.ones((len(session_id),)), (session_id, item_id)))\n",
        "num_users, num_items = session_item_spm.shape"
      ],
      "execution_count": 19,
      "outputs": []
    },
    {
      "cell_type": "code",
      "metadata": {
        "id": "jVGALiYmt4ZW"
      },
      "source": [
        "from sklearn.metrics.pairwise import cosine_similarity\n",
        "\n",
        "def cosine_sim(session_item_spm):\n",
        "    item_spm = cosine_similarity(session_item_spm.transpose(),dense_output=False)\n",
        "    return item_spm"
      ],
      "execution_count": 9,
      "outputs": []
    },
    {
      "cell_type": "code",
      "metadata": {
        "id": "KxC9B2C-t-DV"
      },
      "source": [
        "item_sim = cosine_sim(session_item_spm)"
      ],
      "execution_count": 20,
      "outputs": []
    },
    {
      "cell_type": "code",
      "metadata": {
        "colab": {
          "base_uri": "https://localhost:8080/"
        },
        "id": "lCAwog_xuEmr",
        "outputId": "7202dd32-954b-4c82-b09f-12823da9132e"
      },
      "source": [
        "print(item_sim.shape)"
      ],
      "execution_count": 21,
      "outputs": [
        {
          "output_type": "stream",
          "text": [
            "(214981103, 214981103)\n"
          ],
          "name": "stdout"
        }
      ]
    },
    {
      "cell_type": "code",
      "metadata": {
        "colab": {
          "base_uri": "https://localhost:8080/"
        },
        "id": "vyalTm-tRrrI",
        "outputId": "937364df-0f3f-4244-ab77-65d482429ef2"
      },
      "source": [
        "print(item_sim)"
      ],
      "execution_count": 22,
      "outputs": [
        {
          "output_type": "stream",
          "text": [
            "  (214507331, 214832557)\t0.5773502691896258\n",
            "  (214507331, 214820458)\t0.5\n",
            "  (214507331, 214800262)\t0.35355339059327373\n",
            "  (214507331, 214783352)\t1.0\n",
            "  (214507331, 214748334)\t0.4472135954999579\n",
            "  (214507331, 214743821)\t0.5773502691896258\n",
            "  (214507331, 214716120)\t1.0\n",
            "  (214507331, 214648250)\t0.4472135954999579\n",
            "  (214507331, 214648247)\t0.5\n",
            "  (214507331, 214603138)\t0.5\n",
            "  (214507331, 214575665)\t0.5773502691896258\n",
            "  (214507331, 214517880)\t1.0\n",
            "  (214507331, 214507331)\t1.0\n",
            "  (214507365, 214850402)\t0.16012815380508713\n",
            "  (214507365, 214849768)\t1.0\n",
            "  (214507365, 214849766)\t0.7071067811865475\n",
            "  (214507365, 214849080)\t0.2773500981126146\n",
            "  (214507365, 214849001)\t0.21320071635561041\n",
            "  (214507365, 214845131)\t0.15617376188860607\n",
            "  (214507365, 214839973)\t0.12126781251816648\n",
            "  (214507365, 214837286)\t0.21320071635561041\n",
            "  (214507365, 214587317)\t0.20851441405707477\n",
            "  (214507365, 214586694)\t0.30151134457776363\n",
            "  (214507365, 214573350)\t0.3333333333333333\n",
            "  (214507365, 214507365)\t1.0\n",
            "  :\t:\n",
            "  (214865212, 214832482)\t0.4082482904638631\n",
            "  (214865212, 214832477)\t0.5\n",
            "  (214865212, 214832360)\t0.7071067811865475\n",
            "  (214865212, 214832357)\t0.5773502691896258\n",
            "  (214865212, 214832355)\t0.4472135954999579\n",
            "  (214865212, 214832347)\t0.3333333333333333\n",
            "  (214865212, 214832338)\t0.3779644730092272\n",
            "  (214865212, 214832336)\t0.31622776601683794\n",
            "  (214865212, 214832334)\t0.4082482904638631\n",
            "  (214865212, 214832332)\t0.3333333333333333\n",
            "  (214865212, 214696897)\t0.7071067811865475\n",
            "  (214865212, 214691531)\t0.5\n",
            "  (214865212, 214686879)\t0.2886751345948129\n",
            "  (214865212, 214538572)\t0.7071067811865475\n",
            "  (214981102, 214981102)\t1.0\n",
            "  (214981102, 214839600)\t0.22360679774997896\n",
            "  (214981102, 214835747)\t0.14907119849998599\n",
            "  (214981102, 214835745)\t0.19611613513818404\n",
            "  (214981102, 214832128)\t0.4082482904638631\n",
            "  (214981102, 214831967)\t0.21320071635561041\n",
            "  (214981102, 214826998)\t0.21320071635561041\n",
            "  (214981102, 214821407)\t0.3779644730092272\n",
            "  (214981102, 214821350)\t0.4472135954999579\n",
            "  (214981102, 214573357)\t0.5773502691896258\n",
            "  (214981102, 214557223)\t0.31622776601683794\n"
          ],
          "name": "stdout"
        }
      ]
    },
    {
      "cell_type": "code",
      "metadata": {
        "colab": {
          "base_uri": "https://localhost:8080/"
        },
        "id": "Ips-Ei7u0m2K",
        "outputId": "6764319c-654d-490a-8267-6460013c2962"
      },
      "source": [
        "# 유사도가 n보다 크고 m보다 작은 item과 유사도 출력\n",
        "n = 0\n",
        "m = 0.015\n",
        "idx = 0\n",
        "first_ptr = 214507331 # item_sim 을 출력했을 때 첫번째 itemID\n",
        "\n",
        "for i in range(first_ptr, len(item_sim.indptr)-1 ):\n",
        "  if (item_sim.indptr[i+1] - item_sim.indptr[i]) > 0: #2\n",
        "    cnt = item_sim.indptr[i+1] - item_sim.indptr[i] #2\n",
        "    ptr = i\n",
        "    for j in range(cnt):\n",
        "      if (item_sim.data[idx] > n and item_sim.data[idx] < m):\n",
        "        print(\"(%d,%d) %f\"%(ptr, item_sim.indices[idx], item_sim.data[idx]))\n",
        "      idx += 1"
      ],
      "execution_count": 35,
      "outputs": [
        {
          "output_type": "stream",
          "text": [
            "(214716671,214853767) 0.013376\n",
            "(214716671,214853702) 0.014982\n",
            "(214716671,214844400) 0.014465\n",
            "(214716671,214839973) 0.013474\n",
            "(214716714,214748336) 0.013878\n",
            "(214716746,214839973) 0.014097\n",
            "(214748336,214854300) 0.013649\n",
            "(214748336,214850739) 0.014506\n",
            "(214748336,214853242) 0.014927\n",
            "(214748336,214851080) 0.013649\n",
            "(214748336,214716714) 0.013878\n",
            "(214839973,214853767) 0.014599\n",
            "(214839973,214716746) 0.014097\n",
            "(214839973,214716671) 0.013474\n",
            "(214844396,214853767) 0.014707\n",
            "(214844398,214853767) 0.013901\n",
            "(214844400,214716671) 0.014465\n",
            "(214850739,214748336) 0.014506\n",
            "(214851080,214748336) 0.013649\n",
            "(214853242,214748336) 0.014927\n",
            "(214853702,214716671) 0.014982\n",
            "(214853767,214716671) 0.013376\n",
            "(214853767,214844396) 0.014707\n",
            "(214853767,214844398) 0.013901\n",
            "(214853767,214839973) 0.014599\n",
            "(214854300,214748336) 0.013649\n"
          ],
          "name": "stdout"
        }
      ]
    },
    {
      "cell_type": "code",
      "metadata": {
        "id": "eUZg6ZNTiMdl"
      },
      "source": [
        "# 공통된 sessionID의 개수\n",
        "def duplicate(Item_i, Item_j):\n",
        "  cnt = 0\n",
        "  for i in Item_i['SessionId']:\n",
        "    for j in Item_j['SessionId']:\n",
        "      if i == j:\n",
        "        cnt += 1\n",
        "  return cnt"
      ],
      "execution_count": 28,
      "outputs": []
    },
    {
      "cell_type": "code",
      "metadata": {
        "colab": {
          "base_uri": "https://localhost:8080/"
        },
        "id": "0ZyatntUBWXT",
        "outputId": "83433fa1-0fb8-4607-a627-003871ba43c6"
      },
      "source": [
        "# (214832315, 214832317) 0.894427\n",
        "Item_i = filtered_df.loc[filtered_df.ItemId == 214832315]\n",
        "Item_j = filtered_df.loc[filtered_df.ItemId == 214832317]\n",
        "duplicate(Item_i, Item_j)"
      ],
      "execution_count": 29,
      "outputs": [
        {
          "output_type": "execute_result",
          "data": {
            "text/plain": [
              "4"
            ]
          },
          "metadata": {
            "tags": []
          },
          "execution_count": 29
        }
      ]
    },
    {
      "cell_type": "code",
      "metadata": {
        "colab": {
          "base_uri": "https://localhost:8080/"
        },
        "id": "UBFXs3ZwkTNB",
        "outputId": "11d72be7-230e-4115-8e3c-83bd110f8802"
      },
      "source": [
        "# (214716671,214853767) 0.013376\n",
        "Item_i = filtered_df.loc[filtered_df.ItemId == 214716671]\n",
        "Item_j = filtered_df.loc[filtered_df.ItemId == 214853767]\n",
        "duplicate(Item_i, Item_j)"
      ],
      "execution_count": 36,
      "outputs": [
        {
          "output_type": "execute_result",
          "data": {
            "text/plain": [
              "1"
            ]
          },
          "metadata": {
            "tags": []
          },
          "execution_count": 36
        }
      ]
    }
  ]
}